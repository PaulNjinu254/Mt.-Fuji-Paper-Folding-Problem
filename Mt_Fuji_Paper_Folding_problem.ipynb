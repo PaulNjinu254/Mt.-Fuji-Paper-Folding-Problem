{
  "nbformat": 4,
  "nbformat_minor": 0,
  "metadata": {
    "colab": {
      "provenance": [],
      "authorship_tag": "ABX9TyPZrCbehZtlz0FaREQI1HLm",
      "include_colab_link": true
    },
    "kernelspec": {
      "name": "python3",
      "display_name": "Python 3"
    },
    "language_info": {
      "name": "python"
    }
  },
  "cells": [
    {
      "cell_type": "markdown",
      "metadata": {
        "id": "view-in-github",
        "colab_type": "text"
      },
      "source": [
        "<a href=\"https://colab.research.google.com/github/PaulNjinu254/Mt.-Fuji-Paper-Folding-Problem/blob/main/Mt_Fuji_Paper_Folding_problem.ipynb\" target=\"_parent\"><img src=\"https://colab.research.google.com/assets/colab-badge.svg\" alt=\"Open In Colab\"/></a>"
      ]
    },
    {
      "cell_type": "code",
      "execution_count": 10,
      "metadata": {
        "colab": {
          "base_uri": "https://localhost:8080/"
        },
        "id": "_du09V-a2TNL",
        "outputId": "2b716c1d-1770-45d8-d5e7-2b664bd1b78b"
      },
      "outputs": [
        {
          "output_type": "stream",
          "name": "stdout",
          "text": [
            "The minimum number of folds needed to exceed Mount Fuji are: 26 folds\n",
            "Final thickness after 26 folds is 5368.7 meters\n",
            "Minimum number of folds to reach Proxima Centauri: 69\n",
            "Required paper lengths to fold to each height:\n",
            "\n",
            "Moon (folds = 43): 3.20e-01 meters\n",
            "Mt. Fuji (folds = 26): 0.12 meters\n",
            "Proxima Centauri (folds = 69): 8.15e-01 meters\n"
          ]
        }
      ],
      "source": [
        "# problem 1\n",
        "t0 = 0.00008 # set initial thickness\n",
        "target_height = 3776 # set desired final height\n",
        "n = 0 # set intial folds\n",
        "thickness = t0 # equates initial thickness to thickness\n",
        "while thickness <= target_height:\n",
        "  thickness = t0 * (2 ** n)\n",
        "  n = n + 1\n",
        "\n",
        "print(\"The minimum number of folds needed to exceed Mount Fuji are: {} folds\".format(n - 1))\n",
        "print(\"Final thickness after {} folds is {:.1f} meters\".format(n - 1, thickness))\n",
        "\n",
        "# problem 2\n",
        "def min_folds_to_exceed(target_height, initial_thickness):\n",
        "    n = 0\n",
        "    thickness = initial_thickness\n",
        "\n",
        "    while thickness <= target_height:\n",
        "        thickness = initial_thickness * (2 ** n)\n",
        "        n += 1\n",
        "\n",
        "    return n - 1  # Subtract 1 since n is incremented after exceeding\n",
        "\n",
        "# Constants\n",
        "t0 = 0.00008  # Initial paper thickness in meters\n",
        "proxima_centauri_distance = 4.0175 * (10 ** 16)  # Distance in meters\n",
        "\n",
        "# Use the function to calculate folds to reach Proxima Centauri\n",
        "folds_needed = min_folds_to_exceed(proxima_centauri_distance, t0)\n",
        "\n",
        "print(\"Minimum number of folds to reach Proxima Centauri:\", folds_needed)\n",
        "\n",
        "# problem 3\n",
        "import math\n",
        "\n",
        "def required_paper_length(n_folds, initial_thickness):\n",
        "    L = (math.pi * initial_thickness / 6) * (2 * n_folds + 4) * (2 * n_folds - 1)\n",
        "    return L\n",
        "\n",
        "def min_folds_to_exceed(target_height, initial_thickness):\n",
        "    n = 0\n",
        "    thickness = initial_thickness\n",
        "    while thickness <= target_height:\n",
        "        thickness = initial_thickness * (2 ** n)\n",
        "        n += 1\n",
        "    return n - 1\n",
        "\n",
        "# Constants\n",
        "t0 = 0.00008  # Initial thickness in meters\n",
        "moon_distance = 384400000      # Distance to Moon (m)\n",
        "fuji_height = 3776             # Height of Mt. Fuji (m)\n",
        "proxima_centauri_distance = 4.0175e16  # Distance to Proxima Centauri (m)\n",
        "\n",
        "# Fold counts\n",
        "folds_moon = min_folds_to_exceed(moon_distance, t0)\n",
        "folds_fuji = min_folds_to_exceed(fuji_height, t0)\n",
        "folds_star = min_folds_to_exceed(proxima_centauri_distance, t0)\n",
        "\n",
        "# Required lengths\n",
        "length_moon = required_paper_length(folds_moon, t0)\n",
        "length_fuji = required_paper_length(folds_fuji, t0)\n",
        "length_star = required_paper_length(folds_star, t0)\n",
        "\n",
        "# Print results\n",
        "print(\"Required paper lengths to fold to each height:\\n\")\n",
        "print(f\"Moon (folds = {folds_moon}): {length_moon:.2e} meters\")\n",
        "print(f\"Mt. Fuji (folds = {folds_fuji}): {length_fuji:.2f} meters\")\n",
        "print(f\"Proxima Centauri (folds = {folds_star}): {length_star:.2e} meters\")"
      ]
    }
  ]
}